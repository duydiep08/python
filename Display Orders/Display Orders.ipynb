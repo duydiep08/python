{
 "cells": [
  {
   "cell_type": "code",
   "execution_count": 5,
   "id": "783e2766",
   "metadata": {},
   "outputs": [
    {
     "name": "stdout",
     "output_type": "stream",
     "text": [
      "Hãy nhập số tiền bạn đã chi tại cửa hàng: $1221\n",
      "Tổng số tiền bạn phải thanh toán là: $1171\n"
     ]
    }
   ],
   "source": [
    "so_tien_da_chi = int(input(\"Hãy nhập số tiền bạn đã chi tại cửa hàng: $\"))\n",
    "giam_gia = 0\n",
    "\n",
    "# Xác định số tiền giảm giá dựa trên số tiền đã chi\n",
    "if so_tien_da_chi >= 150:\n",
    "    giam_gia = 50\n",
    "elif so_tien_da_chi >= 100:\n",
    "    giam_gia = 25\n",
    "elif so_tien_da_chi >= 75:\n",
    "    giam_gia = 15\n",
    "\n",
    "# Tính tổng số tiền phải thanh toán\n",
    "tong_tien_phai_thanh_toan = so_tien_da_chi - giam_gia\n",
    "\n",
    "# In ra tổng số tiền phải thanh toán\n",
    "print(f\"Tổng số tiền bạn phải thanh toán là: ${tong_tien_phai_thanh_toan}\")"
   ]
  },
  {
   "cell_type": "code",
   "execution_count": null,
   "id": "3d65460c",
   "metadata": {},
   "outputs": [],
   "source": []
  },
  {
   "cell_type": "code",
   "execution_count": null,
   "id": "3f981e6c",
   "metadata": {},
   "outputs": [],
   "source": []
  },
  {
   "cell_type": "code",
   "execution_count": null,
   "id": "b5458e77",
   "metadata": {},
   "outputs": [],
   "source": []
  }
 ],
 "metadata": {
  "kernelspec": {
   "display_name": "Python 3 (ipykernel)",
   "language": "python",
   "name": "python3"
  },
  "language_info": {
   "codemirror_mode": {
    "name": "ipython",
    "version": 3
   },
   "file_extension": ".py",
   "mimetype": "text/x-python",
   "name": "python",
   "nbconvert_exporter": "python",
   "pygments_lexer": "ipython3",
   "version": "3.11.4"
  }
 },
 "nbformat": 4,
 "nbformat_minor": 5
}

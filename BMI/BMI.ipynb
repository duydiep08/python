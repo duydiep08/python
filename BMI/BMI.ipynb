{
 "cells": [
  {
   "cell_type": "code",
   "execution_count": 18,
   "id": "7dbf29b5",
   "metadata": {},
   "outputs": [
    {
     "name": "stdout",
     "output_type": "stream",
     "text": [
      "Nhập cân nặng của bạn (kg): 60\n",
      "Nhập chiều cao của bạn (m): 1.7\n",
      "Chỉ số BMI là: 20.761245674740486\n",
      "Bình thường\n"
     ]
    }
   ],
   "source": [
    "# Nhập cân nặng và chiều cao từ người dùng\n",
    "can_nang = float(input(\"Nhập cân nặng của bạn (kg): \"))\n",
    "chieu_cao = float(input(\"Nhập chiều cao của bạn (m): \"))\n",
    "\n",
    "# Xác định tình trạng cơ thể dựa trên chỉ số BMI\n",
    "if (can_nang <=0 and chieu_cao <= 0):\n",
    "        print(\"Số nhập vào không hợp lệ!!\")\n",
    "else:\n",
    "        bmi = can_nang / (chieu_cao ** 2)\n",
    "        print(\"Chỉ số BMI là:\", bmi)\n",
    "        if bmi < 16:\n",
    "            print(\"Gầy cấp độ III\")\n",
    "        elif bmi < 17:\n",
    "            print(\"Gầy cấp độ II\")\n",
    "        elif bmi < 18.5:\n",
    "            print(\"Gầy cấp độ I\")\n",
    "        elif bmi < 25:\n",
    "            print(\"Bình thường\")\n",
    "        elif bmi < 30:\n",
    "            print(\"Thừa cân\")\n",
    "        elif bmi < 35:\n",
    "            print(\"Béo phì cấp độ I\")\n",
    "        elif bmi < 40:\n",
    "            print(\"Béo phì cấp độ II\")\n",
    "        else:\n",
    "            print(\"Béo phì cấp độ III\")"
   ]
  },
  {
   "cell_type": "code",
   "execution_count": 8,
   "id": "dc92d7fd",
   "metadata": {},
   "outputs": [
    {
     "name": "stdout",
     "output_type": "stream",
     "text": [
      "Nhâp vào chiều cao:1.7\n",
      "Nhập vào cân nặng:50\n",
      "BMI là: 14.705882352941178\n",
      "Gầy cấp độ III\n"
     ]
    }
   ],
   "source": []
  },
  {
   "cell_type": "code",
   "execution_count": null,
   "id": "6259d31e",
   "metadata": {},
   "outputs": [],
   "source": []
  }
 ],
 "metadata": {
  "kernelspec": {
   "display_name": "Python 3 (ipykernel)",
   "language": "python",
   "name": "python3"
  },
  "language_info": {
   "codemirror_mode": {
    "name": "ipython",
    "version": 3
   },
   "file_extension": ".py",
   "mimetype": "text/x-python",
   "name": "python",
   "nbconvert_exporter": "python",
   "pygments_lexer": "ipython3",
   "version": "3.11.4"
  }
 },
 "nbformat": 4,
 "nbformat_minor": 5
}

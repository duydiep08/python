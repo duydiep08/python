{
 "cells": [
  {
   "cell_type": "code",
   "execution_count": null,
   "id": "059006eb",
   "metadata": {},
   "outputs": [],
   "source": [
    "# Yêu cầu người dùng nhập một số từ 1 đến 7\n",
    "so_ngay = int(input(\"Nhập một số từ 1 đến 7: \"))\n",
    "\n",
    "# Sử dụng điều kiện để in ra ngày tương ứng hoặc thông báo lỗi\n",
    "if so_ngay == 1:\n",
    "    print(\"Monday\")\n",
    "elif so_ngay == 2:\n",
    "    print(\"Tuesday\")\n",
    "elif so_ngay == 3:\n",
    "    print(\"Wednesday\")\n",
    "elif so_ngay == 4:\n",
    "    print(\"Thursday\")\n",
    "elif so_ngay == 5:\n",
    "    print(\"Friday\")\n",
    "elif so_ngay == 6:\n",
    "    print(\"Saturday\")\n",
    "elif so_ngay == 7:\n",
    "    print(\"Sunday\")\n",
    "else:\n",
    "    print(\"error, out of range\")"
   ]
  }
 ],
 "metadata": {
  "kernelspec": {
   "display_name": "Python 3 (ipykernel)",
   "language": "python",
   "name": "python3"
  },
  "language_info": {
   "codemirror_mode": {
    "name": "ipython",
    "version": 3
   },
   "file_extension": ".py",
   "mimetype": "text/x-python",
   "name": "python",
   "nbconvert_exporter": "python",
   "pygments_lexer": "ipython3",
   "version": "3.11.4"
  }
 },
 "nbformat": 4,
 "nbformat_minor": 5
}

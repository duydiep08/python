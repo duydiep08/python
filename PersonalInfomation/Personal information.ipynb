{
 "cells": [
  {
   "cell_type": "code",
   "execution_count": 2,
   "id": "4d630176",
   "metadata": {},
   "outputs": [
    {
     "name": "stdout",
     "output_type": "stream",
     "text": [
      "Thông tin cá nhân:\n",
      "Họ tên: Nguyễn Duy Điệp\n",
      "Tuổi: 25\n",
      "Số điện thoại: 0123456789\n"
     ]
    }
   ],
   "source": [
    "# Khai báo các thông tin cá nhân\n",
    "ho_ten = \"Nguyễn Duy Điệp\"\n",
    "tuoi = 25\n",
    "so_dien_thoai = \"0123456789\"\n",
    "\n",
    "# In ra thông tin cá nhân\n",
    "print(\"Thông tin cá nhân:\")\n",
    "print(\"Họ tên:\", ho_ten)\n",
    "print(\"Tuổi:\", tuoi)\n",
    "print(\"Số điện thoại:\", so_dien_thoai)"
   ]
  },
  {
   "cell_type": "code",
   "execution_count": null,
   "id": "1ebe2454",
   "metadata": {},
   "outputs": [],
   "source": []
  }
 ],
 "metadata": {
  "kernelspec": {
   "display_name": "Python 3 (ipykernel)",
   "language": "python",
   "name": "python3"
  },
  "language_info": {
   "codemirror_mode": {
    "name": "ipython",
    "version": 3
   },
   "file_extension": ".py",
   "mimetype": "text/x-python",
   "name": "python",
   "nbconvert_exporter": "python",
   "pygments_lexer": "ipython3",
   "version": "3.11.4"
  }
 },
 "nbformat": 4,
 "nbformat_minor": 5
}

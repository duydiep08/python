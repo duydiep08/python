{
 "cells": [
  {
   "cell_type": "code",
   "execution_count": 5,
   "id": "bc14cf74",
   "metadata": {},
   "outputs": [
    {
     "name": "stdout",
     "output_type": "stream",
     "text": [
      "Giới tính: Nữ\n",
      "{'ma_mon': 'DAF', 'ten_mon': 'Phân tích Dữ liệu cơ bản'}  ===>  Phân tích Dữ liệu cơ bản\n",
      "Trần Văn Tèo\n"
     ]
    }
   ],
   "source": [
    "mydict = {\n",
    "    \"ho_ten\": \"Trần Văn Tèo\",\n",
    "    \"nam_sinh\": 1999,\n",
    "    \"gioi_tinh\": False,\n",
    "    \"danh_sach_mon_hoc\": [\n",
    "        {\n",
    "            \"ma_mon\": \"PYF\", \"ten_mon\": \"Lập trình Python cơ bản\"\n",
    "        },\n",
    "        {\n",
    "            \"ma_mon\": \"DAF\", \"ten_mon\": \"Phân tích Dữ liệu cơ bản\"\n",
    "        }\n",
    "    ]\n",
    "}\n",
    "# Lấy thông tin giới tính (True: Nam, False: Nữ)\n",
    "print(\"Giới tính:\", \"Nam\" if mydict[\"gioi_tinh\"] else \"Nữ\")\n",
    "# Lấy thông tin môn học thứ 2\n",
    "print(mydict[\"danh_sach_mon_hoc\"][1], \" ===> \", mydict[\"danh_sach_mon_hoc\"][1][\"ten_mon\"])\n",
    "# Lấy họ tên\n",
    "print(mydict[\"ho_ten\"])\n"
   ]
  },
  {
   "cell_type": "code",
   "execution_count": 13,
   "id": "9b039842",
   "metadata": {},
   "outputs": [
    {
     "name": "stdout",
     "output_type": "stream",
     "text": [
      "[{'id': 'NV001', 'name': 'Tèo Trần', 'gender': True, 'salary': 1000}, {'id': 'NV002', 'name': 'Ly Trần', 'gender': False, 'salary': 1299}, {'id': 'NV003', 'name': 'David Lý', 'gender': True, 'salary': 2199}, {'id': 'NV004', 'name': 'Leonardo', 'gender': True, 'salary': 2999}]\n",
      "Nhập vào mã nhân viên cần tìmNV003\n",
      "Tìm thấy: {'id': 'NV003', 'name': 'David Lý', 'gender': True, 'salary': 2199}\n",
      "Số lượng nhân viên nam: 3\n",
      "Số lượng nhân viên nữa 1\n",
      "Số lượng nhân viên có lương >= 1500: 2\n",
      "[{'id': 'NV003', 'name': 'David Lý', 'gender': True, 'salary': 2199}, {'id': 'NV004', 'name': 'Leonardo', 'gender': True, 'salary': 2999}]\n"
     ]
    }
   ],
   "source": [
    "'''\n",
    "Viết chương trình cho phép người dùng tìm dữ liệu của\n",
    "nhân viên bằng cách nhập id của nhân viên đó (Database\n",
    "sẽ được cho sẵn).\n",
    "'''\n",
    "employee_db = [\n",
    "    {\"id\": \"NV001\", \"name\": \"Tèo Trần\", \"gender\": True, \"salary\": 1000},\n",
    "    {\"id\": \"NV002\", \"name\": \"Ly Trần\", \"gender\": False, \"salary\": 1299},\n",
    "    {\"id\": \"NV003\", \"name\": \"David Lý\", \"gender\": True, \"salary\": 2199},\n",
    "    {\"id\": \"NV004\", \"name\": \"Leonardo\", \"gender\": True, \"salary\": 2999},\n",
    "]\n",
    "\n",
    "print(employee_db)\n",
    "\n",
    "# Nhập id cần tìm\n",
    "ma_nhan_vien = input(\"Nhập vào mã nhân viên cần tìm\").strip()\n",
    "ma_nhan_vien_lower = ma_nhan_vien.lower()\n",
    "for item in employee_db:\n",
    "    if item['id'].lower() == ma_nhan_vien_lower:\n",
    "        print(\"Tìm thấy:\", item)\n",
    "        found = True\n",
    "        break\n",
    "# Xuất kết quả tìm kiếm\n",
    "if found ==False:\n",
    "    print(f\"Tìm không thấy nhân viên có mã{ma_nhan_vien}.\")\n",
    "# Đếm số lượng nhân viên là Nam\n",
    "#cách 1:\n",
    "so_luong_nam = 0\n",
    "for item in employee_db:\n",
    "    if item[\"gender\"]:\n",
    "        so_luong_nam +=1\n",
    "print(\"Số lượng nhân viên nam:\", so_luong_nam)\n",
    "print(\"Số lượng nhân viên nữa\", len(employee_db)- so_luong_nam)\n",
    "# Đếm số lượng nhân viên có lương >= 1500\n",
    "dem = 0\n",
    "for item in employee_db:\n",
    "    if item[\"salary\"] >= 1500:\n",
    "        dem +=1\n",
    "print(\"Số lượng nhân viên có lương >= 1500:\", dem)\n",
    "# Lọc số lượng nhân viên có lương >= 1500\n",
    "nv_luong_lon_hon_1500 = list(filter(lambda item:item[\"salary\"] >= 1500, employee_db))\n",
    "print(nv_luong_lon_hon_1500)"
   ]
  },
  {
   "cell_type": "code",
   "execution_count": 10,
   "id": "f8d2fd36",
   "metadata": {},
   "outputs": [
    {
     "name": "stdout",
     "output_type": "stream",
     "text": [
      "[2304, 36, 81, 441, 1]\n",
      "[48, 21]\n"
     ]
    }
   ],
   "source": [
    "'''\n",
    "Lambda: hàm ẩn danh, thường dùng chung với hàm map() và filter()\n",
    "map(hàm_xử_lý_từng_phần_tử, danh_sách): biến đổi giá trị của các phần tử trong danh sách (số lượng phần tử không đổi)\n",
    "filter(hàm_xử_lý_lọc_theo điều_kiện, danh_sách): lọc các phần tử trong danh sách (số lượng phần tử có thể đổi)\n",
    "'''\n",
    "danh_sach = [48, 6, 9, 21, 1]\n",
    "square_all = list(map(lambda phan_tu: phan_tu ** 2, danh_sach)) # [48^2, 36, 81, 441, 1]\n",
    "print(square_all)\n",
    "more_than_15 = list(filter(lambda so: so >= 15, danh_sach))\n",
    "print(more_than_15)"
   ]
  },
  {
   "cell_type": "code",
   "execution_count": null,
   "id": "acdd59c9",
   "metadata": {},
   "outputs": [],
   "source": []
  }
 ],
 "metadata": {
  "kernelspec": {
   "display_name": "Python 3 (ipykernel)",
   "language": "python",
   "name": "python3"
  },
  "language_info": {
   "codemirror_mode": {
    "name": "ipython",
    "version": 3
   },
   "file_extension": ".py",
   "mimetype": "text/x-python",
   "name": "python",
   "nbconvert_exporter": "python",
   "pygments_lexer": "ipython3",
   "version": "3.11.4"
  }
 },
 "nbformat": 4,
 "nbformat_minor": 5
}

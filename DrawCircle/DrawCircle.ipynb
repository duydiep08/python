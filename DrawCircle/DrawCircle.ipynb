{
 "cells": [
  {
   "cell_type": "code",
   "execution_count": 2,
   "id": "aa28b296",
   "metadata": {},
   "outputs": [
    {
     "data": {
      "text/plain": [
       "<function turtle.mainloop()>"
      ]
     },
     "execution_count": 2,
     "metadata": {},
     "output_type": "execute_result"
    }
   ],
   "source": [
    "import turtle \n",
    "\n",
    "#đặt kích thước viền cho hình tròn là 5\n",
    "turtle.pensize (5)\n",
    " \n",
    "#đặt màu sắc cho viền hình tròn là màu đỏ\n",
    "turtle.pencolor (\"green\")\n",
    "\n",
    "#đặt màu nền cho hình tròn là màu xanh\n",
    "turtle.fillcolor (\"blue\")\n",
    "turtle.begin_fill()\n",
    "\n",
    "#đặt bán kính của hình tròn là 100\n",
    "turtle.circle (100)\n",
    "turtle.end_fill()\n",
    "turtle.done"
   ]
  },
  {
   "cell_type": "code",
   "execution_count": null,
   "id": "b06f906c",
   "metadata": {},
   "outputs": [],
   "source": []
  }
 ],
 "metadata": {
  "kernelspec": {
   "display_name": "Python 3 (ipykernel)",
   "language": "python",
   "name": "python3"
  },
  "language_info": {
   "codemirror_mode": {
    "name": "ipython",
    "version": 3
   },
   "file_extension": ".py",
   "mimetype": "text/x-python",
   "name": "python",
   "nbconvert_exporter": "python",
   "pygments_lexer": "ipython3",
   "version": "3.11.4"
  }
 },
 "nbformat": 4,
 "nbformat_minor": 5
}
